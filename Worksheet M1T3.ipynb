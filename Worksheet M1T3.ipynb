{
 "cells": [
  {
   "cell_type": "code",
   "execution_count": 2,
   "metadata": {},
   "outputs": [],
   "source": [
    "import  pandas  as pd\n",
    "import  numpy  as np\n",
    "import  matplotlib.pyplot  as plt"
   ]
  },
  {
   "cell_type": "markdown",
   "metadata": {},
   "source": [
    "# Question 1\n",
<<<<<<< HEAD
    "The first part we did that in class.\n",
    "\n",
    "A) edu[4:15] gives all the columns from the rows 4-15\n",
    "\n",
    "   edu['Value'] gives the Value column for all of the rows\n",
    "\n",
    "   edu[4:15]['Value'] only gives the Value column for the rows 4-15\n",
    "\n",
    "   edu[4:15][['Time','Value']] this gives the Time and Value columns for the rows 4-15\n",
    "\n",
    "B) It comments out the phrase \"# lists of multiple columns need []\"."
=======
    "Did that in class\n"
>>>>>>> 9c66e5b5104ec49c4808e1c41463c69875afa705
   ]
  },
  {
   "cell_type": "markdown",
   "metadata": {},
   "source": [
    "# Question 2\n",
    "Printed out the line in the M1_Eurostat notebook"
   ]
  },
  {
   "cell_type": "markdown",
   "metadata": {},
   "source": [
    "# Question 3\n",
    "For the edu_new_rows dataframe it adds 3 rows to the bottom of the data.\n",
    "\n",
    "The rest is on the M1_Eurostat "
   ]
  },
  {
   "cell_type": "markdown",
   "metadata": {},
   "source": [
    "# Question 4\n",
    "Both of them are on the M1_Eurostat"
   ]
  }
 ],
 "metadata": {
  "kernelspec": {
   "display_name": "Python 2",
   "language": "python",
   "name": "python2"
  },
  "language_info": {
   "codemirror_mode": {
    "name": "ipython",
    "version": 2
   },
   "file_extension": ".py",
   "mimetype": "text/x-python",
   "name": "python",
   "nbconvert_exporter": "python",
   "pygments_lexer": "ipython2",
   "version": "2.7.16"
  }
 },
 "nbformat": 4,
 "nbformat_minor": 2
}
