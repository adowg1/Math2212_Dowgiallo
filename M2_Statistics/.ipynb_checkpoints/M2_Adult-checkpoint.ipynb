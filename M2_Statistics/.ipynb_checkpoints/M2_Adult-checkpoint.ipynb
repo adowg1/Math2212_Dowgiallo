{
 "cells": [
  {
   "cell_type": "code",
   "execution_count": 1,
   "metadata": {},
   "outputs": [],
   "source": [
    "import  pandas  as pd\n",
    "import  numpy  as np\n",
    "import  matplotlib.pyplot  as plt"
   ]
  },
  {
   "cell_type": "code",
   "execution_count": 4,
   "metadata": {},
   "outputs": [],
   "source": [
    "file = open('adult.data', 'r')\n",
    "def chr_int(a):\n",
    "    if a.isdigit(): return int(a)\n",
    "    else: return 0\n",
    "\n",
    "data = []\n",
    "for line in file:\n",
    "    data1 = line.split(', ')\n",
    "    if len(data1) == 15:\n",
    "        data.append([\n",
    "            chr_int(data1[0]), data1[1],\n",
    "            chr_int(data1[2]), data1[3],\n",
    "            chr_int(data1[4]), data1[5],\n",
    "            data1[6], data1[7], data1[8],\n",
    "            data1[9], chr_int(data1[10]),\n",
    "            chr_int(data1[11]),\n",
    "            chr_int(data1[12]),\n",
    "            data1[13], data1[14]\n",
    "        ])\n"
   ]
  },
  {
   "cell_type": "markdown",
   "metadata": {},
   "source": [
    "# Worksheet 2\n",
    "\n",
    "- What does the 'r' do in that first line?\n",
    "This reads the file and does not allow it to be changed. It is a string.\n",
    "- Describe the function chr_int in the second line\n",
    "It looks for a string and print out a variable if their is a string.\n",
    "- Try compiling this with 'data1 - line.split(',')' without that space. What happends?\n",
    "\n",
    "# Worksheet 3\n",
    "- What might be the best data structure to place this data in?\n",
    "Dataframe"
   ]
  },
  {
   "cell_type": "code",
   "execution_count": null,
   "metadata": {},
   "outputs": [],
   "source": [
    "# Turn data (which is currently an array) into a dataframe\n",
    "\n",
    "adult = pd.DataFrame(\n",
    "    data,\n",
    "    column=[\n",
    "        'age', 'type-employer', 'fnlwgt',\n",
    "        'education', 'education_num', 'marital',\n",
    "        'occupation', 'relationship', 'race',\n",
    "        'sex', 'capital_gain', 'capital_loss',\n",
    "        \n",
    "    ])"
   ]
  },
  {
   "cell_type": "code",
   "execution_count": null,
   "metadata": {},
   "outputs": [],
   "source": []
  }
 ],
 "metadata": {
  "kernelspec": {
   "display_name": "Python 2",
   "language": "python",
   "name": "python2"
  },
  "language_info": {
   "codemirror_mode": {
    "name": "ipython",
    "version": 2
   },
   "file_extension": ".py",
   "mimetype": "text/x-python",
   "name": "python",
   "nbconvert_exporter": "python",
   "pygments_lexer": "ipython2",
   "version": "2.7.16"
  }
 },
 "nbformat": 4,
 "nbformat_minor": 2
}
