{
 "cells": [
  {
   "cell_type": "code",
   "execution_count": null,
   "metadata": {},
   "outputs": [],
   "source": [
    "import  pandas  as pd\n",
    "import  numpy  as np\n",
    "import  matplotlib.pyplot  as plt"
   ]
  },
  {
   "cell_type": "markdown",
   "metadata": {},
   "source": [
    "# Question 1\n",
    "a) The square bracket is the start and end of an ordered list or a series.\n",
    "   An ordered list or series will have a separate piece of information in quotations.\n",
    "\n",
    "b) It helps identify the separate sections of code to better visualize what it says.\n",
    "\n",
    "c) Data, year and team are defining their respective set of data. The pd is refering to pandas. \n",
    "   Football is representing a table with the data create by pd.dataframe. \n",
    "   The final football in the code is representing the code being printed out in a table."
   ]
  },
  {
   "cell_type": "markdown",
   "metadata": {},
   "source": [
    "# Question 2\n",
    "In sandbox"
   ]
  },
  {
   "cell_type": "markdown",
   "metadata": {},
   "source": [
    "# Question 3\n",
    "edu is the name of the chart that is being printed.\n",
    "\n",
    "pd is pandas represented in the code. \n",
    "\n",
    "Read_csv takes the excel file and then gives more specfic data to represent the columns.\n",
    "\n",
    "Usecols sets the headers of each of the columns.\n",
    "\n",
    "The equal sign is what is being represented, if something is equal to something else they are the same thing."
   ]
  },
  {
   "cell_type": "markdown",
   "metadata": {},
   "source": [
    "# Question 4\n",
    "edu.head() means the top of the table.\n",
    "\n",
    "edu.tail() means the bottom of the table.\n",
    "\n",
    "edu.describe() is the data summarized."
   ]
  }
 ],
 "metadata": {
  "kernelspec": {
   "display_name": "Python 2",
   "language": "python",
   "name": "python2"
  },
  "language_info": {
   "codemirror_mode": {
    "name": "ipython",
    "version": 2
   },
   "file_extension": ".py",
   "mimetype": "text/x-python",
   "name": "python",
   "nbconvert_exporter": "python",
   "pygments_lexer": "ipython2",
   "version": "2.7.16"
  }
 },
 "nbformat": 4,
 "nbformat_minor": 4
}
