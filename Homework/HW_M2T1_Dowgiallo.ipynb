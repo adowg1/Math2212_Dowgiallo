{
 "cells": [
  {
   "cell_type": "code",
   "execution_count": 1,
   "metadata": {},
   "outputs": [],
   "source": [
    "import  pandas  as pd\n",
    "import  numpy  as np\n",
    "import  matplotlib.pyplot  as plt"
   ]
  },
  {
   "cell_type": "markdown",
   "metadata": {},
   "source": [
    "# A) Descriptive Statistics\n",
    "It is the analysis of data that helps you to describe and summarize data in a way that is understandable to someone else. Descriptive statistics allows you to interpret the data in a easier way. It is easy and useful way of summarizing a group of data"
   ]
  },
  {
   "cell_type": "markdown",
   "metadata": {},
   "source": [
    "# B) Inferential Statistics\n",
    "Inferential statistics is mainly used to compare different groups. It uses measurements from a the sample of subjects in an experiment to compare the different groups and allow someone to make generalizations about a larger population of subjects. There are many different inferenatial statistics and each of them are specfic to the design of the experiment being completed."
   ]
  },
  {
   "cell_type": "markdown",
   "metadata": {},
   "source": [
    "# C) Data Science\n",
    "Data science is the domain of study that deals with many different volumes of data the uses modern tools to find unknown patterns and find meaningful information."
   ]
  }
 ],
 "metadata": {
  "kernelspec": {
   "display_name": "Python 2",
   "language": "python",
   "name": "python2"
  },
  "language_info": {
   "codemirror_mode": {
    "name": "ipython",
    "version": 2
   },
   "file_extension": ".py",
   "mimetype": "text/x-python",
   "name": "python",
   "nbconvert_exporter": "python",
   "pygments_lexer": "ipython2",
   "version": "2.7.16"
  }
 },
 "nbformat": 4,
 "nbformat_minor": 2
}
