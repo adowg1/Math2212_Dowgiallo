{
 "cells": [
  {
   "cell_type": "code",
   "execution_count": 1,
   "metadata": {},
   "outputs": [],
   "source": [
    "import  pandas  as pd\n",
    "import  numpy  as np\n",
    "import  matplotlib.pyplot  as plt"
   ]
  },
  {
   "cell_type": "code",
   "execution_count": 4,
   "metadata": {},
   "outputs": [
    {
     "data": {
      "text/html": [
       "<div>\n",
       "<style scoped>\n",
       "    .dataframe tbody tr th:only-of-type {\n",
       "        vertical-align: middle;\n",
       "    }\n",
       "\n",
       "    .dataframe tbody tr th {\n",
       "        vertical-align: top;\n",
       "    }\n",
       "\n",
       "    .dataframe thead th {\n",
       "        text-align: right;\n",
       "    }\n",
       "</style>\n",
       "<table border=\"1\" class=\"dataframe\">\n",
       "  <thead>\n",
       "    <tr style=\"text-align: right;\">\n",
       "      <th></th>\n",
       "      <th>census_year</th>\n",
       "      <th>state_fips_code</th>\n",
       "      <th>total_family_income</th>\n",
       "      <th>age</th>\n",
       "      <th>sex</th>\n",
       "      <th>race_general</th>\n",
       "      <th>marital_status</th>\n",
       "      <th>total_personal_income</th>\n",
       "    </tr>\n",
       "  </thead>\n",
       "  <tbody>\n",
       "    <tr>\n",
       "      <th>0</th>\n",
       "      <td>2000</td>\n",
       "      <td>Florida</td>\n",
       "      <td>14550.0</td>\n",
       "      <td>44</td>\n",
       "      <td>Male</td>\n",
       "      <td>Two major races</td>\n",
       "      <td>Married/spouse present</td>\n",
       "      <td>0.0</td>\n",
       "    </tr>\n",
       "    <tr>\n",
       "      <th>1</th>\n",
       "      <td>2000</td>\n",
       "      <td>Florida</td>\n",
       "      <td>22800.0</td>\n",
       "      <td>20</td>\n",
       "      <td>Female</td>\n",
       "      <td>White</td>\n",
       "      <td>Never married/single</td>\n",
       "      <td>13000.0</td>\n",
       "    </tr>\n",
       "    <tr>\n",
       "      <th>2</th>\n",
       "      <td>2000</td>\n",
       "      <td>Florida</td>\n",
       "      <td>0.0</td>\n",
       "      <td>20</td>\n",
       "      <td>Male</td>\n",
       "      <td>Black</td>\n",
       "      <td>Never married/single</td>\n",
       "      <td>20000.0</td>\n",
       "    </tr>\n",
       "    <tr>\n",
       "      <th>3</th>\n",
       "      <td>2000</td>\n",
       "      <td>Florida</td>\n",
       "      <td>23000.0</td>\n",
       "      <td>6</td>\n",
       "      <td>Female</td>\n",
       "      <td>White</td>\n",
       "      <td>Never married/single</td>\n",
       "      <td>NaN</td>\n",
       "    </tr>\n",
       "    <tr>\n",
       "      <th>4</th>\n",
       "      <td>2000</td>\n",
       "      <td>Florida</td>\n",
       "      <td>48000.0</td>\n",
       "      <td>55</td>\n",
       "      <td>Male</td>\n",
       "      <td>White</td>\n",
       "      <td>Married/spouse present</td>\n",
       "      <td>36000.0</td>\n",
       "    </tr>\n",
       "  </tbody>\n",
       "</table>\n",
       "</div>"
      ],
      "text/plain": [
       "   census_year state_fips_code  total_family_income  age     sex  \\\n",
       "0         2000         Florida              14550.0   44    Male   \n",
       "1         2000         Florida              22800.0   20  Female   \n",
       "2         2000         Florida                  0.0   20    Male   \n",
       "3         2000         Florida              23000.0    6  Female   \n",
       "4         2000         Florida              48000.0   55    Male   \n",
       "\n",
       "      race_general          marital_status  total_personal_income  \n",
       "0  Two major races  Married/spouse present                    0.0  \n",
       "1            White    Never married/single                13000.0  \n",
       "2            Black    Never married/single                20000.0  \n",
       "3            White    Never married/single                    NaN  \n",
       "4            White  Married/spouse present                36000.0  "
      ]
     },
     "execution_count": 4,
     "metadata": {},
     "output_type": "execute_result"
    }
   ],
   "source": [
    "census = pd.read_csv('census.csv')\n",
    "               \n",
    "census.head()"
   ]
  },
  {
   "cell_type": "markdown",
   "metadata": {},
   "source": [
    "# Question 1\n",
    "The are 500 rows and 8 columns."
   ]
  },
  {
   "cell_type": "markdown",
   "metadata": {},
   "source": [
    "# Question 2\n",
    "The variables for this dataset are census_year, age, sex, race_general and marital_status."
   ]
  },
  {
   "cell_type": "markdown",
   "metadata": {},
   "source": [
    "# Question 3\n",
    "Numerical- census_year, total_family_income, age, total_personal_income\n",
    "\n",
    "Categorical- state_fips_code, sex, race_general, marital_status"
   ]
  },
  {
   "cell_type": "markdown",
   "metadata": {},
   "source": [
    "**instructor notes**  \n",
    "\n",
    "1) 2/2\n",
    "\n",
    "2) missed a few 1/2\n",
    "\n",
    "3) 2/2"
   ]
  }
 ],
 "metadata": {
  "kernelspec": {
   "display_name": "Python 2",
   "language": "python",
   "name": "python2"
  },
  "language_info": {
   "codemirror_mode": {
    "name": "ipython",
    "version": 2
   },
   "file_extension": ".py",
   "mimetype": "text/x-python",
   "name": "python",
   "nbconvert_exporter": "python",
   "pygments_lexer": "ipython2",
   "version": "2.7.16"
  }
 },
 "nbformat": 4,
 "nbformat_minor": 2
}
